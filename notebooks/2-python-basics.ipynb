{
  "cells": [
    {
      "cell_type": "markdown",
      "metadata": {
        "colab_type": "text",
        "id": "view-in-github"
      },
      "source": [
        "<a href=\"https://colab.research.google.com/gist/iC0rraxX/c643b5dd344bcfb7d438a6c798280977/2-python-basics.ipynb\" target=\"_parent\"><img src=\"https://colab.research.google.com/assets/colab-badge.svg\" alt=\"Open In Colab\"/></a>"
      ]
    },
    {
      "cell_type": "markdown",
      "metadata": {
        "id": "miYQyIQYVg_1"
      },
      "source": [
        "# Python Basics\n",
        "\n",
        "This section will go over some of the very basics of Python.\n",
        "\n",
        "There are lots of good Python introductions on the internet. If you have some basic coding familiarity and you want to take an in-depth introductory course, then I highly recommend [Google's Python Class](https://developers.google.com/edu/python/), which has 6 hours of lecture and about 6 hours of exercises. Beware that that class is for Python 2, not Python 3 (I believe the only difference that matters in that course is that you'll need parentheses around your print statements)."
      ]
    },
    {
      "cell_type": "markdown",
      "metadata": {
        "id": "mNZaPNyrpthN"
      },
      "source": [
        "## The ``print`` and ``display`` Functions\n",
        "\n",
        "We can make things appear on-screen by using the ``print`` function. Put the thing that we want to print inside the parentheses.\n",
        "\n",
        "Note that in Python 2, ``print`` didn't use parentheses. Python 2 is slowly disappearing (after a very long and painful transition to Python 3).\n",
        "\n",
        "Let's run the next cell now."
      ]
    },
    {
      "cell_type": "code",
      "execution_count": 1,
      "metadata": {
        "colab": {
          "base_uri": "https://localhost:8080/"
        },
        "id": "c-CKXdHIp5vm",
        "outputId": "b8404a3b-367b-4a15-bdff-96ff7c9aec36"
      },
      "outputs": [
        {
          "name": "stdout",
          "output_type": "stream",
          "text": [
            "3.14\n",
            "72\n",
            "True\n",
            "Hello\n"
          ]
        }
      ],
      "source": [
        "print(3.14)\n",
        "print(72)\n",
        "print(True)\n",
        "print('Hello')"
      ]
    },
    {
      "cell_type": "markdown",
      "metadata": {
        "id": "QtiC50ZMqUqD"
      },
      "source": [
        "In Colab notebooks, you can also use the ``display`` function to print things. This will usually be the same as calling ``print``, but for some things (like DataFrames, which we'll get to later), it will print things in a prettier way."
      ]
    },
    {
      "cell_type": "code",
      "execution_count": 2,
      "metadata": {
        "colab": {
          "base_uri": "https://localhost:8080/",
          "height": 35
        },
        "id": "VEDs7roLqb14",
        "outputId": "4ed28630-b7b8-4cb0-8e2e-9a517a002365"
      },
      "outputs": [
        {
          "data": {
            "text/plain": [
              "'Hello again.'"
            ]
          },
          "metadata": {},
          "output_type": "display_data"
        }
      ],
      "source": [
        "display('Hello again.')"
      ]
    },
    {
      "cell_type": "markdown",
      "metadata": {
        "id": "Q35_LH72qcbh"
      },
      "source": [
        "One more thing to know is that Colab notebooks will automatically ``display`` the result of the last line of code in a code cell. See the following cell as an example. When the cell is run the first line, ``1+1`` is not displayed, but the second line, ``2+2`` is displayed. We will use this syntax for much of the rest of this notebook."
      ]
    },
    {
      "cell_type": "code",
      "execution_count": 3,
      "metadata": {
        "colab": {
          "base_uri": "https://localhost:8080/"
        },
        "id": "l-C5XbrNqgSi",
        "outputId": "9f13f88d-cae5-4ff7-a2ad-57f108abbad9"
      },
      "outputs": [
        {
          "data": {
            "text/plain": [
              "4"
            ]
          },
          "execution_count": 3,
          "metadata": {},
          "output_type": "execute_result"
        }
      ],
      "source": [
        "1+1\n",
        "2+2"
      ]
    },
    {
      "cell_type": "markdown",
      "metadata": {
        "id": "XfohGKWCmk4J"
      },
      "source": [
        "**Protip**: To avoid having to click the play button at each of these cells, press Control+Enter (or Command+Enter on macOS) to run the selected cell, and then use the down arrow key to move to the next cell. If you want to automatically create a new cell after running a cell, use Shift+Enter (not so useful for this notebook, but helpful when writing your own code)."
      ]
    },
    {
      "cell_type": "markdown",
      "metadata": {
        "id": "5UxGPTwzqyK8"
      },
      "source": [
        "## Types\n",
        "\n",
        "Every expression in Python has a type. The following are some of the basic built-in types.\n",
        "\n",
        "*   Integers\n",
        "*   Floating-point numbers (the term for real numbers, which can have something after the decimal, unlike integers)\n",
        "*   Strings (which are snippets of text)\n",
        "*   Booleans (which are True or False)\n",
        "*   NoneType (a special type which means \"not specified\" or \"there is nothing here\" -- it will appear in documentation a lot)\n",
        "\n",
        "The ``type()`` function will return the type of whatever is in the parentheses.\n",
        "Think through what each of the following blocks of code will print before running them.\n",
        "\n",
        "**Note**: Colab may have something like *5 cells hidden* written below. You'll need to click that to expand the cells. To expand all of the hidden cells in this document, click View > Expand Sections."
      ]
    },
    {
      "cell_type": "code",
      "execution_count": 4,
      "metadata": {
        "colab": {
          "base_uri": "https://localhost:8080/"
        },
        "id": "3ZwP1D6Orbgp",
        "outputId": "5db95bd6-4ab6-44d2-942d-51c877afc6ce"
      },
      "outputs": [
        {
          "data": {
            "text/plain": [
              "int"
            ]
          },
          "execution_count": 4,
          "metadata": {},
          "output_type": "execute_result"
        }
      ],
      "source": [
        "type(3)"
      ]
    },
    {
      "cell_type": "code",
      "execution_count": 5,
      "metadata": {
        "colab": {
          "base_uri": "https://localhost:8080/"
        },
        "id": "tL-8-LoVrbpj",
        "outputId": "8ca88e27-551a-4fe8-806c-7bd591bf680b"
      },
      "outputs": [
        {
          "data": {
            "text/plain": [
              "float"
            ]
          },
          "execution_count": 5,
          "metadata": {},
          "output_type": "execute_result"
        }
      ],
      "source": [
        "type(3.14)"
      ]
    },
    {
      "cell_type": "code",
      "execution_count": 6,
      "metadata": {
        "colab": {
          "base_uri": "https://localhost:8080/"
        },
        "id": "R-1ZKIkdrbyQ",
        "outputId": "39f9859b-4c76-4790-8ba4-f0b5ba7f4b2c"
      },
      "outputs": [
        {
          "data": {
            "text/plain": [
              "str"
            ]
          },
          "execution_count": 6,
          "metadata": {},
          "output_type": "execute_result"
        }
      ],
      "source": [
        "type('Hello')"
      ]
    },
    {
      "cell_type": "code",
      "execution_count": 7,
      "metadata": {
        "colab": {
          "base_uri": "https://localhost:8080/"
        },
        "id": "DGlbct5_rX3T",
        "outputId": "6def6f7a-a487-42fc-db0d-c198fbef3995"
      },
      "outputs": [
        {
          "data": {
            "text/plain": [
              "bool"
            ]
          },
          "execution_count": 7,
          "metadata": {},
          "output_type": "execute_result"
        }
      ],
      "source": [
        "type(True)"
      ]
    },
    {
      "cell_type": "code",
      "execution_count": 8,
      "metadata": {
        "colab": {
          "base_uri": "https://localhost:8080/"
        },
        "id": "BiW5xuBvr3Sz",
        "outputId": "41dbca71-faff-410e-a80e-adb2e95945fb"
      },
      "outputs": [
        {
          "data": {
            "text/plain": [
              "NoneType"
            ]
          },
          "execution_count": 8,
          "metadata": {},
          "output_type": "execute_result"
        }
      ],
      "source": [
        "type(None)"
      ]
    },
    {
      "cell_type": "markdown",
      "metadata": {
        "id": "edmCpPMoeV_C"
      },
      "source": [
        "## Comments and Variables\n",
        "\n",
        "In our programs, we'll be storing various things (numbers, tables, vectors, lists) in variables. Variables are created by assigning them some value with an ``=`` symbol.\n",
        "\n",
        "For example, the below code creates four variables. There are comments above each line explaining what the line will do. Comments are lines in the code that begin with a ``#`` symbol."
      ]
    },
    {
      "cell_type": "code",
      "execution_count": 9,
      "metadata": {
        "id": "dvDZAQMebSgD"
      },
      "outputs": [],
      "source": [
        "# a will now be an integer\n",
        "a = 3\n",
        "# b will now be a string. Note that we could have used \"Hello\" (with\n",
        "# double-quotes) and gotten the same result.\n",
        "b = 'Hello'\n",
        "# c will be a \"floating-point number\", which, for our purposes means \"a real\n",
        "# number\" -- not an integer.\n",
        "c = 3.14159265358979\n",
        "# d will be a boolean value\n",
        "d = False"
      ]
    },
    {
      "cell_type": "markdown",
      "metadata": {
        "id": "TzslD2dgXkmQ"
      },
      "source": [
        "Note that nothing printed because assigning an expression returns ``None`` (which isn't printed, like we mentioned before). Let's print our variables now."
      ]
    },
    {
      "cell_type": "code",
      "execution_count": 10,
      "metadata": {
        "colab": {
          "base_uri": "https://localhost:8080/"
        },
        "id": "iXB7W99NbSgH",
        "outputId": "5318cc09-0f91-4797-d20b-6ab6c1fadca7"
      },
      "outputs": [
        {
          "name": "stdout",
          "output_type": "stream",
          "text": [
            "3\n",
            "Hello\n",
            "3.14159265358979\n",
            "False\n"
          ]
        }
      ],
      "source": [
        "print(a)\n",
        "print(b)\n",
        "print(c)\n",
        "print(d)"
      ]
    },
    {
      "cell_type": "markdown",
      "metadata": {
        "id": "Ru95wrc7bSgT"
      },
      "source": [
        "## Arithmetic"
      ]
    },
    {
      "cell_type": "markdown",
      "metadata": {
        "id": "dg-tOHrhcwOb"
      },
      "source": [
        "The ``+``, ``-``, ``*``, ``/``, and ``()`` operators do the usual arithmetic that one would expect. Exponents are done using the ``**`` operator.\n",
        "\n",
        "Think through what each of the following blocks of code will print.\n",
        "\n",
        "(Again, the press Control+Enter or Command+Enter shortcut key may be helpful here)."
      ]
    },
    {
      "cell_type": "code",
      "execution_count": 11,
      "metadata": {
        "id": "bFLHBsDUbSgW"
      },
      "outputs": [
        {
          "data": {
            "text/plain": [
              "4"
            ]
          },
          "execution_count": 11,
          "metadata": {},
          "output_type": "execute_result"
        }
      ],
      "source": [
        "2+2"
      ]
    },
    {
      "cell_type": "code",
      "execution_count": 12,
      "metadata": {
        "id": "Js2ks-B2fN3m"
      },
      "outputs": [
        {
          "data": {
            "text/plain": [
              "1"
            ]
          },
          "execution_count": 12,
          "metadata": {},
          "output_type": "execute_result"
        }
      ],
      "source": [
        "2-1"
      ]
    },
    {
      "cell_type": "code",
      "execution_count": 13,
      "metadata": {
        "colab": {
          "base_uri": "https://localhost:8080/"
        },
        "id": "DiDTOdTdfN77",
        "outputId": "bea133a9-d70b-4405-ce28-f569875cd631"
      },
      "outputs": [
        {
          "data": {
            "text/plain": [
              "4"
            ]
          },
          "execution_count": 13,
          "metadata": {},
          "output_type": "execute_result"
        }
      ],
      "source": [
        "2*2"
      ]
    },
    {
      "cell_type": "code",
      "execution_count": 14,
      "metadata": {
        "colab": {
          "base_uri": "https://localhost:8080/"
        },
        "id": "0OSLuK6aaJo6",
        "outputId": "3c551bef-3838-457d-f9ac-aed3e9d18c10"
      },
      "outputs": [
        {
          "data": {
            "text/plain": [
              "2.0"
            ]
          },
          "execution_count": 14,
          "metadata": {},
          "output_type": "execute_result"
        }
      ],
      "source": [
        "4/2"
      ]
    },
    {
      "cell_type": "code",
      "execution_count": 15,
      "metadata": {
        "colab": {
          "base_uri": "https://localhost:8080/"
        },
        "id": "XKbOhPtKf6E2",
        "outputId": "68b5425e-66ef-4ebf-ed8f-a36b700f52c9"
      },
      "outputs": [
        {
          "data": {
            "text/plain": [
              "8"
            ]
          },
          "execution_count": 15,
          "metadata": {},
          "output_type": "execute_result"
        }
      ],
      "source": [
        "2**3"
      ]
    },
    {
      "cell_type": "code",
      "execution_count": 16,
      "metadata": {
        "colab": {
          "base_uri": "https://localhost:8080/"
        },
        "id": "IUCxSbuVf9Wn",
        "outputId": "7acfb4fc-742b-49e2-f441-da66366b667a"
      },
      "outputs": [
        {
          "data": {
            "text/plain": [
              "27"
            ]
          },
          "execution_count": 16,
          "metadata": {},
          "output_type": "execute_result"
        }
      ],
      "source": [
        "(1+2)**3"
      ]
    },
    {
      "cell_type": "markdown",
      "metadata": {
        "id": "THDRT1l-bSge"
      },
      "source": [
        "## Logic\n",
        "\n",
        "You can check if two expressions are equal using the ``==`` operator or not equal using the ``!=`` operator. The ``<`` and ``\\>`` operators are for less and greater than, and ``<=`` and ``>=`` are for less or equal than and greater or equal than."
      ]
    },
    {
      "cell_type": "code",
      "execution_count": 17,
      "metadata": {
        "colab": {
          "base_uri": "https://localhost:8080/"
        },
        "id": "B5ncEZuvgu5d",
        "outputId": "08581932-50e5-4fd4-80ef-8fb4d737efed"
      },
      "outputs": [
        {
          "data": {
            "text/plain": [
              "False"
            ]
          },
          "execution_count": 17,
          "metadata": {},
          "output_type": "execute_result"
        }
      ],
      "source": [
        "4 == 5"
      ]
    },
    {
      "cell_type": "code",
      "execution_count": 18,
      "metadata": {
        "colab": {
          "base_uri": "https://localhost:8080/"
        },
        "id": "liVkzdGCbSgf",
        "outputId": "75ced5d3-d463-4269-e38f-97176e4c1eb9"
      },
      "outputs": [
        {
          "data": {
            "text/plain": [
              "True"
            ]
          },
          "execution_count": 18,
          "metadata": {},
          "output_type": "execute_result"
        }
      ],
      "source": [
        "4 != 5"
      ]
    },
    {
      "cell_type": "code",
      "execution_count": 19,
      "metadata": {
        "colab": {
          "base_uri": "https://localhost:8080/"
        },
        "id": "SQElDXZ_g8BZ",
        "outputId": "46a179a1-8e82-4622-9584-ce07336ea043"
      },
      "outputs": [
        {
          "data": {
            "text/plain": [
              "True"
            ]
          },
          "execution_count": 19,
          "metadata": {},
          "output_type": "execute_result"
        }
      ],
      "source": [
        "4 <= 4"
      ]
    },
    {
      "cell_type": "markdown",
      "metadata": {
        "id": "gK2lMSTcbSgr"
      },
      "source": [
        "You can also use the ``&`` and ``|`` operators to perform and logical and or operations.\n",
        "\n",
        "The following is read as \"True or False\"."
      ]
    },
    {
      "cell_type": "code",
      "execution_count": 20,
      "metadata": {
        "colab": {
          "base_uri": "https://localhost:8080/"
        },
        "id": "XIpbwoZqbSgs",
        "outputId": "da4cdba2-f650-42e1-88e5-5d86822bc102"
      },
      "outputs": [
        {
          "data": {
            "text/plain": [
              "True"
            ]
          },
          "execution_count": 20,
          "metadata": {},
          "output_type": "execute_result"
        }
      ],
      "source": [
        "True | False"
      ]
    },
    {
      "cell_type": "markdown",
      "metadata": {
        "id": "hbkwx9fuWv88"
      },
      "source": [
        "And the following is read as \"True and False\"."
      ]
    },
    {
      "cell_type": "code",
      "execution_count": 21,
      "metadata": {
        "colab": {
          "base_uri": "https://localhost:8080/"
        },
        "id": "XVTgIZN2bSgw",
        "outputId": "74bd589c-fbf6-4a9d-cbd5-ec7f772c413b"
      },
      "outputs": [
        {
          "data": {
            "text/plain": [
              "False"
            ]
          },
          "execution_count": 21,
          "metadata": {},
          "output_type": "execute_result"
        }
      ],
      "source": [
        "True & False"
      ]
    },
    {
      "cell_type": "markdown",
      "metadata": {
        "id": "UqDVVoWWousc"
      },
      "source": [
        "Negation is done using the word ``not``. This is unlike other languages that use ``!``."
      ]
    },
    {
      "cell_type": "code",
      "execution_count": 22,
      "metadata": {
        "colab": {
          "base_uri": "https://localhost:8080/",
          "height": 34
        },
        "id": "hLoNK8ANoqkd",
        "outputId": "e9898a71-d813-48e1-d973-454e07ed57f1"
      },
      "outputs": [
        {
          "data": {
            "text/plain": [
              "False"
            ]
          },
          "execution_count": 22,
          "metadata": {},
          "output_type": "execute_result"
        }
      ],
      "source": [
        "not(True)"
      ]
    },
    {
      "cell_type": "markdown",
      "metadata": {
        "id": "H-ynaAOasoek"
      },
      "source": [
        "## Strings\n",
        "\n",
        "Strings are pieces of text. They can be created using single-quotes (``'``) or double-quotes (``\"``).\n",
        "\n",
        "Strings can be concatenated (stuck together) using the ``+`` operator. For example:"
      ]
    },
    {
      "cell_type": "code",
      "execution_count": 23,
      "metadata": {
        "colab": {
          "base_uri": "https://localhost:8080/",
          "height": 35
        },
        "id": "WarRQv2LtF9l",
        "outputId": "b6cee5e0-e136-41da-e511-09504559ff4b"
      },
      "outputs": [
        {
          "data": {
            "text/plain": [
              "'abcdef'"
            ]
          },
          "execution_count": 23,
          "metadata": {},
          "output_type": "execute_result"
        }
      ],
      "source": [
        "'abc' + 'def'"
      ]
    },
    {
      "cell_type": "markdown",
      "metadata": {
        "id": "essKWHRBtIn8"
      },
      "source": [
        "You can turn almost any type into a string by putting it inside the ``str`` function. This can be helpful when printing results.\n",
        "\n",
        "Suppose you do some really complicated computation to get a variable ``x`` and you want to print it with some related context. The expression ``str(x)`` will return a string for the variable's value."
      ]
    },
    {
      "cell_type": "code",
      "execution_count": 24,
      "metadata": {
        "id": "7PBiTDzctI4b"
      },
      "outputs": [
        {
          "name": "stdout",
          "output_type": "stream",
          "text": [
            "x is equal to 6\n"
          ]
        }
      ],
      "source": [
        "x = 1 + 2 + 3\n",
        "print('x is equal to ' + str(x))"
      ]
    },
    {
      "cell_type": "markdown",
      "metadata": {
        "id": "hMKIdf5Hs04t"
      },
      "source": [
        "# More Complex Python Types"
      ]
    },
    {
      "cell_type": "markdown",
      "metadata": {
        "id": "spSYA-57ttcK"
      },
      "source": [
        "Here are some of the more complex Python types and functions that we will make use of."
      ]
    },
    {
      "cell_type": "markdown",
      "metadata": {
        "id": "OAqmwAcObSg2"
      },
      "source": [
        "## Lists"
      ]
    },
    {
      "cell_type": "markdown",
      "metadata": {
        "id": "s6N9dMWAt05m"
      },
      "source": [
        "A list is what it sounds like: A list of objects. The objects in a list can have any type.\n",
        "\n",
        "To create a list, use a ``[`` and ``]`` pair, with the entries in the list inside the brackets, separated by commas. Remember what values we assigned to ``a``, ``b``, and ``c`` before? (they were ``3``, ``'Hello'``, and $\\pi$, respectively)."
      ]
    },
    {
      "cell_type": "code",
      "execution_count": 25,
      "metadata": {
        "colab": {
          "base_uri": "https://localhost:8080/"
        },
        "id": "BcghjTC6bSg3",
        "outputId": "412d03ca-ed10-4263-9720-3a5bf6000280"
      },
      "outputs": [
        {
          "data": {
            "text/plain": [
              "[1, 3, 'Hello', 3.14159265358979, 'The End']"
            ]
          },
          "execution_count": 25,
          "metadata": {},
          "output_type": "execute_result"
        }
      ],
      "source": [
        "my_list = [1, a, b, c, 'The End']\n",
        "my_list"
      ]
    },
    {
      "cell_type": "markdown",
      "metadata": {
        "id": "pP4EXcNzueXL"
      },
      "source": [
        "The individual elements of a list can be accessed using the ``[]`` operator. The first element in a list has an index of ``0``, the second has index ``1``, and so on."
      ]
    },
    {
      "cell_type": "code",
      "execution_count": 26,
      "metadata": {
        "colab": {
          "base_uri": "https://localhost:8080/"
        },
        "id": "es3rkx4DbSg7",
        "outputId": "b1ff19cd-56df-4f6f-8fa5-2e19e7e69e6e"
      },
      "outputs": [
        {
          "name": "stdout",
          "output_type": "stream",
          "text": [
            "1\n",
            "The End\n"
          ]
        }
      ],
      "source": [
        "print(my_list[0])\n",
        "print(my_list[4])"
      ]
    },
    {
      "cell_type": "markdown",
      "metadata": {
        "id": "ljxbeuc3uzNO"
      },
      "source": [
        "You can modify elements of a list in the same way that you can set variables, using the = operator."
      ]
    },
    {
      "cell_type": "code",
      "execution_count": 27,
      "metadata": {
        "colab": {
          "base_uri": "https://localhost:8080/"
        },
        "id": "EFZgohPuu2Vo",
        "outputId": "2ca8f124-aa71-4986-dad2-462a90fb225b"
      },
      "outputs": [
        {
          "data": {
            "text/plain": [
              "[1, 3, 'Hello', 3.14159265358979, 'The End']"
            ]
          },
          "execution_count": 27,
          "metadata": {},
          "output_type": "execute_result"
        }
      ],
      "source": [
        "my_list[1] = a\n",
        "my_list"
      ]
    },
    {
      "cell_type": "markdown",
      "metadata": {
        "id": "V_qyjeHjvC9K"
      },
      "source": [
        "You can get the length of a list using the ``len`` function."
      ]
    },
    {
      "cell_type": "code",
      "execution_count": 28,
      "metadata": {
        "colab": {
          "base_uri": "https://localhost:8080/"
        },
        "id": "swgoZDBHvGv2",
        "outputId": "73e332d4-aca3-4875-e6d3-35fc5990cbfc"
      },
      "outputs": [
        {
          "data": {
            "text/plain": [
              "5"
            ]
          },
          "execution_count": 28,
          "metadata": {},
          "output_type": "execute_result"
        }
      ],
      "source": [
        "len(my_list)"
      ]
    },
    {
      "cell_type": "markdown",
      "metadata": {
        "id": "bJexvHaCvKo-"
      },
      "source": [
        "Like strings, two lists can be concatentated with the ``+`` operator."
      ]
    },
    {
      "cell_type": "code",
      "execution_count": 29,
      "metadata": {
        "colab": {
          "base_uri": "https://localhost:8080/"
        },
        "id": "xqYIvhJlbShI",
        "outputId": "0524766a-0205-4e6d-93dd-46e6fdd27cec"
      },
      "outputs": [
        {
          "data": {
            "text/plain": [
              "[3, 'Hello', 3.14159265358979, 1, 2, 3]"
            ]
          },
          "execution_count": 29,
          "metadata": {},
          "output_type": "execute_result"
        }
      ],
      "source": [
        "[a, b, c] + [1, 2, 3]"
      ]
    },
    {
      "cell_type": "markdown",
      "metadata": {
        "id": "vMhVx3QhvUGG"
      },
      "source": [
        "And entries can be appended to the end of a list using the ``append`` function."
      ]
    },
    {
      "cell_type": "code",
      "execution_count": 30,
      "metadata": {
        "colab": {
          "base_uri": "https://localhost:8080/"
        },
        "id": "cf_f13MLbShL",
        "outputId": "b58622c3-8aba-4def-cee1-f96d83295c6a"
      },
      "outputs": [
        {
          "data": {
            "text/plain": [
              "[1, 3, 'Hello', 3.14159265358979, 'The End', 'Appendage']"
            ]
          },
          "execution_count": 30,
          "metadata": {},
          "output_type": "execute_result"
        }
      ],
      "source": [
        "my_list.append(\"Appendage\")\n",
        "my_list"
      ]
    },
    {
      "cell_type": "markdown",
      "metadata": {
        "id": "lbm89qpAbShr"
      },
      "source": [
        "## Functions\n",
        "\n",
        "Functions are blocks of code that take parameters, perform some computation, and return a value.\n",
        "\n",
        "The following block of code creates a function called ``MyFunction``. It takes a parameter ``a`` and returns ``a+1``."
      ]
    },
    {
      "cell_type": "code",
      "execution_count": 31,
      "metadata": {
        "id": "-fIMoMm2bSht"
      },
      "outputs": [],
      "source": [
        "def MyFunction(a):\n",
        "  \n",
        "  return a+1"
      ]
    },
    {
      "cell_type": "markdown",
      "metadata": {
        "id": "ZiML034ZzOtO"
      },
      "source": [
        "Let's call our function now."
      ]
    },
    {
      "cell_type": "code",
      "execution_count": 32,
      "metadata": {
        "colab": {
          "base_uri": "https://localhost:8080/"
        },
        "id": "Wl-QKofkbShv",
        "outputId": "76d9ea9e-00e7-42bd-fcc1-7ce00498dae1"
      },
      "outputs": [
        {
          "data": {
            "text/plain": [
              "1001"
            ]
          },
          "execution_count": 32,
          "metadata": {},
          "output_type": "execute_result"
        }
      ],
      "source": [
        "MyFunction(1000)"
      ]
    },
    {
      "cell_type": "markdown",
      "metadata": {
        "id": "jkk3gca8z3b9"
      },
      "source": [
        "We'll be using functions that take many many many parameters, which most of the time have sensible \"default\" values. See, for example [this function](https://pandas.pydata.org/pandas-docs/stable/reference/api/pandas.read_csv.html) which we'll use in the next notebook to read a CSV file takes 49(!) parameters.\n",
        "\n",
        "We can define default values for parameters using the following syntax. When we specify default values for parameters, they are optional, and can be specified in any order. This will be very helpful to be familiar with when we're using our data science libraries."
      ]
    },
    {
      "cell_type": "code",
      "execution_count": null,
      "metadata": {
        "id": "KgIgPUpqzvIZ"
      },
      "outputs": [],
      "source": [
        "def MySecondFunction(a = 1, b = 2, c = 3):\n",
        "  print(\"a was \" + str(a))\n",
        "  print(\"b was \" + str(b))\n",
        "  print(\"c was \" + str(c))\n",
        "  # Functions that don't have a \"return\" statement will return the None value.\n",
        "  return None"
      ]
    },
    {
      "cell_type": "markdown",
      "metadata": {
        "id": "l6WNKlQLFY23"
      },
      "source": [
        "Now we can call MySecondFunction without specifying any parameters. "
      ]
    },
    {
      "cell_type": "code",
      "execution_count": null,
      "metadata": {
        "colab": {
          "base_uri": "https://localhost:8080/"
        },
        "id": "hTS2byrhFQZ1",
        "outputId": "d11b87e3-bec4-4aa3-bdee-e327ffadcac0"
      },
      "outputs": [
        {
          "name": "stdout",
          "output_type": "stream",
          "text": [
            "a was 1\n",
            "b was 2\n",
            "c was 3\n"
          ]
        }
      ],
      "source": [
        "MySecondFunction()"
      ]
    },
    {
      "cell_type": "markdown",
      "metadata": {
        "id": "LLCpgApG2NgB"
      },
      "source": [
        "We can call ``MySecondFunction`` only specifying the parameters that we want to."
      ]
    },
    {
      "cell_type": "code",
      "execution_count": null,
      "metadata": {
        "id": "Mn0uuzTl0evN"
      },
      "outputs": [],
      "source": [
        "MySecondFunction(c = 5)"
      ]
    },
    {
      "cell_type": "markdown",
      "metadata": {
        "id": "AZQzONdW25d-"
      },
      "source": [
        "Or, we can call ``MySecondFunction`` with some parameters in \"positional\" form (without names) and some parameters using names. What will this function call print?"
      ]
    },
    {
      "cell_type": "code",
      "execution_count": null,
      "metadata": {
        "colab": {
          "base_uri": "https://localhost:8080/"
        },
        "id": "VMc9BsoM3Aey",
        "outputId": "fbfbad12-1594-4084-9359-aca4c58b56ef"
      },
      "outputs": [
        {
          "name": "stdout",
          "output_type": "stream",
          "text": [
            "a was 999\n",
            "b was 2\n",
            "c was 1000\n"
          ]
        }
      ],
      "source": [
        "MySecondFunction(999, c = 1000)"
      ]
    }
  ],
  "metadata": {
    "colab": {
      "collapsed_sections": [
        "5UxGPTwzqyK8",
        "edmCpPMoeV_C",
        "Ru95wrc7bSgT",
        "THDRT1l-bSge",
        "H-ynaAOasoek",
        "OAqmwAcObSg2",
        "WLvZCvRPbSha",
        "lbm89qpAbShr"
      ],
      "include_colab_link": true,
      "provenance": []
    },
    "kernelspec": {
      "display_name": "Python 3",
      "name": "python3"
    },
    "language_info": {
      "codemirror_mode": {
        "name": "ipython",
        "version": 3
      },
      "file_extension": ".py",
      "mimetype": "text/x-python",
      "name": "python",
      "nbconvert_exporter": "python",
      "pygments_lexer": "ipython3",
      "version": "3.11.1"
    }
  },
  "nbformat": 4,
  "nbformat_minor": 0
}